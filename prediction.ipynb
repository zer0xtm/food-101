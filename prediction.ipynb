{
 "cells": [
  {
   "cell_type": "code",
   "execution_count": 1,
   "id": "c7fe91f9",
   "metadata": {},
   "outputs": [],
   "source": [
    "import torch\n",
    "from PIL import Image\n",
    "from torchvision import transforms, models\n",
    "import torch.nn as nn"
   ]
  },
  {
   "cell_type": "code",
   "execution_count": 2,
   "id": "d32f4b97",
   "metadata": {},
   "outputs": [],
   "source": [
    "def classificate_image(image_path, model, label_encoder, device):\n",
    "    image = Image.open(image_path)\n",
    "    preprocess = transforms.Compose([\n",
    "        transforms.Resize(256),\n",
    "        transforms.CenterCrop(224),\n",
    "        transforms.ToTensor(),\n",
    "        transforms.Normalize(mean=[0.485, 0.456, 0.406], std=[0.229, 0.224, 0.225]),])\n",
    "    image_tensor = preprocess(image).unsqueeze(0).to(device)\n",
    "\n",
    "    with torch.no_grad():\n",
    "        model.eval()\n",
    "        output = model(image_tensor)\n",
    "    _, predicted_idx = torch.max(output, 1)\n",
    "    \n",
    "    predicted_idx = predicted_idx.item()\n",
    "    predicted_label = label_encoder.get_label(predicted_idx)\n",
    "\n",
    "    return predicted_label\n"
   ]
  },
  {
   "cell_type": "code",
   "execution_count": 5,
   "id": "00410401",
   "metadata": {},
   "outputs": [],
   "source": [
    "class Label_encoder:\n",
    "    def __init__(self, labels):\n",
    "        labels = list(set(labels))\n",
    "        self.labels = {label: idx for idx, label in enumerate(classes)}\n",
    "\n",
    "    def get_label(self, idx):\n",
    "        return list(self.labels.keys())[idx]\n",
    "\n",
    "    def get_idx(self, label):\n",
    "        return self.labels[label]\n",
    "classes = open(\"./food-101/meta/classes.txt\", 'r').read().splitlines()\n",
    "encoder = Label_encoder(classes)"
   ]
  },
  {
   "cell_type": "code",
   "execution_count": 7,
   "id": "e1706ebe",
   "metadata": {},
   "outputs": [],
   "source": [
    "device = torch.device('cuda' if torch.cuda.is_available() else 'cpu')\n",
    "\n",
    "model = models.efficientnet_v2_s(weights=None)\n",
    "\n",
    "model.load_state_dict(torch.load('effnet_fin.pth'))\n",
    "model.to(device)\n",
    "model.eval()\n",
    "\n",
    "label_encoder = Label_encoder(classes)\n",
    "\n"
   ]
  },
  {
   "cell_type": "code",
   "execution_count": 8,
   "id": "0b017307",
   "metadata": {},
   "outputs": [
    {
     "name": "stdout",
     "output_type": "stream",
     "text": [
      "Predicted Label: risotto\n"
     ]
    }
   ],
   "source": [
    "image_path = \"food-101/images/risotto/36631.jpg\" \n",
    "predicted_label = classificate_image(image_path, model, label_encoder, device)\n",
    "print(\"Predicted Label:\", predicted_label)"
   ]
  },
  {
   "cell_type": "code",
   "execution_count": null,
   "id": "1ff0b760",
   "metadata": {},
   "outputs": [],
   "source": []
  }
 ],
 "metadata": {
  "kernelspec": {
   "display_name": "Python 3 (ipykernel)",
   "language": "python",
   "name": "python3"
  },
  "language_info": {
   "codemirror_mode": {
    "name": "ipython",
    "version": 3
   },
   "file_extension": ".py",
   "mimetype": "text/x-python",
   "name": "python",
   "nbconvert_exporter": "python",
   "pygments_lexer": "ipython3",
   "version": "3.10.12"
  }
 },
 "nbformat": 4,
 "nbformat_minor": 5
}
